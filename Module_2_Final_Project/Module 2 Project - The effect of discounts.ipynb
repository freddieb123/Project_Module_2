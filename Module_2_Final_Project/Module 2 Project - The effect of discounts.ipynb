{
 "cells": [
  {
   "cell_type": "markdown",
   "metadata": {},
   "source": [
    "# Module 2 Project - Do discounts work?"
   ]
  },
  {
   "cell_type": "markdown",
   "metadata": {},
   "source": [
    "Using Microsoft's Northwind dummy database, the aim of this project is extract data to answer some key business questions. The three questions are: \n",
    "\n",
    "1. <a href = #products>Do discounts have a statistically significant effect on the number of products customers order?</a> If so, at what level(s) of discount?\n",
    "2. <a href = #employees>Are discounts effective for all employees?</a>\n",
    "3. <a href = #manager>As the manager in the British Isles, are there any regions that are signficantly different to mine measured by quantity per order?</a>\n",
    "\n",
    "The structure of each answer is:\n",
    "1. Set up the null and alternative hypothesis\n",
    "2. Extract the data using the sqlite3 python library and create a pandas dataframe\n",
    "3. Split the data into control and experiment\n",
    "4. Perform a statistical test and draw conclusions\n",
    "\n",
    "Below is the ERD for the Northwind Database"
   ]
  },
  {
   "cell_type": "markdown",
   "metadata": {},
   "source": [
    "<img src=\"files/Northwind_ERD.png\">"
   ]
  },
  {
   "cell_type": "markdown",
   "metadata": {},
   "source": [
    "<a id='products'></a>"
   ]
  },
  {
   "cell_type": "markdown",
   "metadata": {},
   "source": [
    "# Question 1: Do discounts have a statistically significant effect on the number of products customers order? If so, at what level(s) of discount?"
   ]
  },
  {
   "cell_type": "markdown",
   "metadata": {},
   "source": [
    "H0: Discounts do not have an effect on the number of products customers order  \n",
    "H1: Discounts do have an effect on the number of products customers order\n",
    "\n",
    "We will use a p value of 0.05 and this is a two-tailed test\n",
    "\n",
    "In this analysis we:\n",
    "1. Check for normality\n",
    "2. Visualise the difference in means\n",
    "3. Find the effect size to see whether there is any practical use to our conclusion\n",
    "4. See whether different discount levels are more or less effective using ANOVA and Tukey's HSD test for difference in means"
   ]
  },
  {
   "cell_type": "markdown",
   "metadata": {},
   "source": [
    "## Extracting the data"
   ]
  },
  {
   "cell_type": "code",
   "execution_count": 1,
   "metadata": {},
   "outputs": [],
   "source": [
    "import sqlite3\n",
    "import pandas as pd\n",
    "import numpy as np\n",
    "import scipy.stats as stat\n",
    "import seaborn as sns\n",
    "import matplotlib.pyplot as plt\n",
    "import statsmodels\n",
    "from statsmodels.formula.api import ols\n",
    "import statsmodels.api as sm\n",
    "from statsmodels.stats.multicomp import pairwise_tukeyhsd\n",
    "from statsmodels.stats.multicomp import MultiComparison\n",
    "\n",
    "\n",
    "\n",
    "conn = sqlite3.connect('Northwind_small.sqlite')\n",
    "cur = conn.cursor()"
   ]
  },
  {
   "cell_type": "code",
   "execution_count": 2,
   "metadata": {},
   "outputs": [
    {
     "name": "stdout",
     "output_type": "stream",
     "text": [
      "[('Employee',), ('Category',), ('Customer',), ('Shipper',), ('Supplier',), ('Order',), ('Product',), ('OrderDetail',), ('CustomerCustomerDemo',), ('CustomerDemographic',), ('Region',), ('Territory',), ('EmployeeTerritory',)]\n"
     ]
    }
   ],
   "source": [
    "#Check actual table names, as they are slightly different from the ERD\n",
    "cur.execute(\"\"\"\n",
    "SELECT name FROM sqlite_master where type='table';\n",
    "\"\"\")\n",
    "print(cur.fetchall())"
   ]
  },
  {
   "cell_type": "code",
   "execution_count": 3,
   "metadata": {},
   "outputs": [],
   "source": [
    "#We are interesting in Quantity and Discount, both of which are in the OrderDetail table\n",
    "cur.execute(\"\"\"\n",
    "SELECT * FROM OrderDetail;\n",
    "\"\"\")\n",
    "table = cur.fetchall()"
   ]
  },
  {
   "cell_type": "code",
   "execution_count": 4,
   "metadata": {},
   "outputs": [],
   "source": [
    "# Create the dataframe\n",
    "cols = [i[0] for i in cur.description]\n",
    "df = pd.DataFrame.from_records(data = table, columns=cols)\n",
    "cur.close()\n",
    "conn.close()"
   ]
  },
  {
   "cell_type": "code",
   "execution_count": 5,
   "metadata": {},
   "outputs": [
    {
     "name": "stdout",
     "output_type": "stream",
     "text": [
      "<class 'pandas.core.frame.DataFrame'>\n",
      "RangeIndex: 2155 entries, 0 to 2154\n",
      "Data columns (total 6 columns):\n",
      " #   Column     Non-Null Count  Dtype  \n",
      "---  ------     --------------  -----  \n",
      " 0   Id         2155 non-null   object \n",
      " 1   OrderId    2155 non-null   int64  \n",
      " 2   ProductId  2155 non-null   int64  \n",
      " 3   UnitPrice  2155 non-null   float64\n",
      " 4   Quantity   2155 non-null   int64  \n",
      " 5   Discount   2155 non-null   float64\n",
      "dtypes: float64(2), int64(3), object(1)\n",
      "memory usage: 101.1+ KB\n"
     ]
    }
   ],
   "source": [
    "df.info()"
   ]
  },
  {
   "cell_type": "code",
   "execution_count": 6,
   "metadata": {},
   "outputs": [
    {
     "data": {
      "text/plain": [
       "0.00    1317\n",
       "0.05     185\n",
       "0.10     173\n",
       "0.20     161\n",
       "0.15     157\n",
       "0.25     154\n",
       "0.03       3\n",
       "0.02       2\n",
       "0.01       1\n",
       "0.04       1\n",
       "0.06       1\n",
       "Name: Discount, dtype: int64"
      ]
     },
     "execution_count": 6,
     "metadata": {},
     "output_type": "execute_result"
    }
   ],
   "source": [
    "# Check what the different discounts being applied are. \n",
    "df.Discount.value_counts()"
   ]
  },
  {
   "cell_type": "code",
   "execution_count": 7,
   "metadata": {},
   "outputs": [],
   "source": [
    "#Create another binary column that indicates discount or no discount\n",
    "df['Discount_binary'] = np.where(df['Discount']>0,1,0)\n",
    "\n",
    "#Split up the data into two groups - discount and non-discount\n",
    "experiment = df['Quantity'][df['Discount_binary']==1]\n",
    "control = df['Quantity'][df['Discount_binary']==0]"
   ]
  },
  {
   "cell_type": "code",
   "execution_count": 8,
   "metadata": {
    "scrolled": true
   },
   "outputs": [
    {
     "name": "stdout",
     "output_type": "stream",
     "text": [
      "      Discount mean: 27.10978520286396\n",
      "         Discount variance: 431.4526878869016\n",
      "         Non-discount mean: 21.715261958997722\n",
      "         Non_discount varian: 306.512327685884\n",
      "      \n"
     ]
    }
   ],
   "source": [
    "#Get summary of each group\n",
    "exp_mean = experiment.mean();\n",
    "control_mean = control.mean();\n",
    "exp_var = experiment.var();\n",
    "control_var = control.var();\n",
    "\n",
    "print(\"\"\"      Discount mean: {}\n",
    "         Discount variance: {}\n",
    "         Non-discount mean: {}\n",
    "         Non_discount varian: {}\n",
    "      \"\"\".format(exp_mean,exp_var,control_mean,control_var))"
   ]
  },
  {
   "cell_type": "markdown",
   "metadata": {},
   "source": [
    "The summary above shows us that the mean quantity ordered for discounted products is indeed higher. We also note the variances are not equal, which has an impact on the t test later.\n",
    "\n",
    "Next we perform a visual test to check for normality and see that both distributions are likely from a normal distribution."
   ]
  },
  {
   "cell_type": "code",
   "execution_count": 10,
   "metadata": {
    "scrolled": true
   },
   "outputs": [
    {
     "data": {
      "text/plain": [
       "(NormaltestResult(statistic=544.5770045551502, pvalue=5.579637380545965e-119),\n",
       " NormaltestResult(statistic=261.528012299789, pvalue=1.6214878452829618e-57))"
      ]
     },
     "execution_count": 10,
     "metadata": {},
     "output_type": "execute_result"
    },
    {
     "data": {
      "image/png": "[encoded data removed]",
      "text/plain": [
       "<Figure size 432x288 with 1 Axes>"
      ]
     },
     "metadata": {
      "needs_background": "light"
     },
     "output_type": "display_data"
    }
   ],
   "source": [
    "sns.distplot(control, label = \"No Discount\")\n",
    "sns.distplot(experiment, label = \"Discount\")\n",
    "plt.legend()\n",
    "\n",
    "stat.normaltest(control), stat.normaltest(experiment)"
   ]
  },
  {
   "cell_type": "markdown",
   "metadata": {},
   "source": [
    "Lets create sampling distributions of the means for each distribution, to see what the overlap looks like. The plot below seems to show that there is a signficant difference between the means. We will conduct a t test to confirm. "
   ]
  },
  {
   "cell_type": "code",
   "execution_count": 11,
   "metadata": {},
   "outputs": [],
   "source": [
    "control_means = []\n",
    "experiment_means = []\n",
    "\n",
    "for i in range(500):\n",
    "    sample_control = control.sample(300)\n",
    "    sample_experiment = experiment.sample(300)\n",
    "    control_means.append(sample_control.mean())\n",
    "    experiment_means.append(sample_experiment.mean())"
   ]
  },
  {
   "cell_type": "code",
   "execution_count": 13,
   "metadata": {},
   "outputs": [
    {
     "data": {
      "image/png": "[encoded data removed]",
      "text/plain": [
       "<Figure size 432x288 with 1 Axes>"
      ]
     },
     "metadata": {
      "needs_background": "light"
     },
     "output_type": "display_data"
    }
   ],
   "source": [
    "sns.distplot(control_means, label = \"No Discount\")\n",
    "sns.distplot(experiment_means, label = \"Discount\")\n",
    "plt.legend();\n",
    "plt.xlabel(\"Quantity of Product Ordered\");\n",
    "plt.title('Mean of 500 random samples in each group');"
   ]
  },
  {
   "cell_type": "code",
   "execution_count": 14,
   "metadata": {},
   "outputs": [
    {
     "data": {
      "text/plain": [
       "Ttest_indResult(statistic=6.239069142123973, pvalue=5.65641429030433e-10)"
      ]
     },
     "execution_count": 14,
     "metadata": {},
     "output_type": "execute_result"
    }
   ],
   "source": [
    "#given variances are not equal, we will not use the Student t-test, but instead use Welch's t-test. Note we are using\n",
    "# the original samples in the t test, not the distribution of means shown above. That is there as a visual test, and to\n",
    "#demonstrate the Central Limit Theorem.\n",
    "stat.ttest_ind(experiment,control,equal_var=False)"
   ]
  },
  {
   "cell_type": "code",
   "execution_count": 16,
   "metadata": {},
   "outputs": [
    {
     "data": {
      "text/plain": [
       "0.2861395762937942"
      ]
     },
     "execution_count": 16,
     "metadata": {},
     "output_type": "execute_result"
    }
   ],
   "source": [
    "#What is the effect size?\n",
    "def cohen_d(x,y):\n",
    "    nx = len(x)\n",
    "    ny = len(y)\n",
    "    dof = nx + ny - 2\n",
    "    return (np.mean(x) - np.mean(y)) / np.sqrt(((nx)*np.std(x, ddof=1) ** 2 + (ny)*np.std(y, ddof=1) ** 2) / dof)\n",
    "\n",
    "cohen_d(experiment,control)"
   ]
  },
  {
   "cell_type": "code",
   "execution_count": 17,
   "metadata": {},
   "outputs": [
    {
     "name": "stdout",
     "output_type": "stream",
     "text": [
      "                    sum_sq      df         F        PR(>F)\n",
      "C(Discount)   21258.403604    10.0  6.011811  4.704231e-09\n",
      "Residual     758141.232591  2144.0       NaN           NaN\n"
     ]
    }
   ],
   "source": [
    "#Use ANOVA to see if there is a statistically significant difference between discount levels\n",
    "\n",
    "formula = 'Quantity ~ C(Discount)'\n",
    "lm = ols(formula, df).fit()\n",
    "table = sm.stats.anova_lm(lm, typ=2)\n",
    "print(table)\n",
    "\n",
    "#So there is a statistically significant difference between discount levels. Now we need to find out which ones. "
   ]
  },
  {
   "cell_type": "code",
   "execution_count": 18,
   "metadata": {},
   "outputs": [
    {
     "data": {
      "text/plain": [
       "0.00    1317\n",
       "0.10     173\n",
       "0.20     161\n",
       "0.15     157\n",
       "0.25     154\n",
       "Name: Discount, dtype: int64"
      ]
     },
     "execution_count": 18,
     "metadata": {},
     "output_type": "execute_result"
    }
   ],
   "source": [
    "#Given the very low numbers of small discounts, we will remove these now \n",
    "df_update = df.drop(df[(df.Discount <= 0.06) & (df.Discount > 0.0)].index)\n",
    "\n",
    "df_update.Discount.value_counts()"
   ]
  },
  {
   "cell_type": "code",
   "execution_count": 19,
   "metadata": {},
   "outputs": [
    {
     "name": "stdout",
     "output_type": "stream",
     "text": [
      "Multiple Comparison of Means - Tukey HSD, FWER=0.05 \n",
      "====================================================\n",
      "group1 group2 meandiff p-adj   lower   upper  reject\n",
      "----------------------------------------------------\n",
      "   0.0    0.1   3.5217 0.1272 -0.5562  7.5996  False\n",
      "   0.0   0.15   6.6669  0.001  2.4093 10.9245   True\n",
      "   0.0    0.2   5.3096 0.0053  1.0995  9.5197   True\n",
      "   0.0   0.25    6.525  0.001  2.2305 10.8195   True\n",
      "   0.1   0.15   3.1452 0.5287 -2.4132  8.7035  False\n",
      "   0.1    0.2   1.7879    0.9 -3.7342  7.3099  False\n",
      "   0.1   0.25   3.0033 0.5725 -2.5834  8.5899  False\n",
      "  0.15    0.2  -1.3573    0.9 -7.0133  4.2987  False\n",
      "  0.15   0.25  -0.1419    0.9  -5.861  5.5772  False\n",
      "   0.2   0.25   1.2154    0.9 -4.4684  6.8993  False\n",
      "----------------------------------------------------\n",
      "[0.   0.1  0.15 0.2  0.25]\n"
     ]
    }
   ],
   "source": [
    "mc = MultiComparison(df_update['Quantity'], df_update['Discount'])\n",
    "result = mc.tukeyhsd()\n",
    " \n",
    "print(result)\n",
    "print(mc.groupsunique)"
   ]
  },
  {
   "cell_type": "markdown",
   "metadata": {},
   "source": [
    "## Conclusion\n",
    "\n",
    "1. Our Welch t test for unequal variances tells us that we should reject the null hypothesis at p = 0.05 and say that that there is a statistically significant difference in order quantity for discounted products. \n",
    "\n",
    "2. Our ANOVA test tells us that there is a statistically significant difference between discount levels\n",
    "\n",
    "3. Our Tukey HSD shows that the 15%, 20% and 25% discounts are all better than no discount. However the differences between discount levels of 15%, 20% and 25% need to be investigated further as there is no significant difference between each of the means. So we cannot say that a product at 20% discount will sell more than a product at 15% discount.\n",
    "\n",
    "Recommendation: Continue to use discounts where the business objective is to increase order quantity. Use only the 15% discount as there is no evidence higher discounts increase sales. "
   ]
  },
  {
   "cell_type": "markdown",
   "metadata": {},
   "source": [
    "<a id='employees'></a>"
   ]
  },
  {
   "cell_type": "markdown",
   "metadata": {},
   "source": [
    "# Question 2: Are discounts effective for all employees?"
   ]
  },
  {
   "cell_type": "markdown",
   "metadata": {},
   "source": [
    "This analysis requires multiple t tests as there are 9 employees. We are at risk of False Positives (rejecting the null hypothesis when it is true). So we need to use the Bonferroni correction, effectively reducing the p value of 0.05 by a factor of 9."
   ]
  },
  {
   "cell_type": "code",
   "execution_count": 20,
   "metadata": {},
   "outputs": [],
   "source": [
    "#apply the Bonferroni correction when conducting multiple t-tests at the same time"
   ]
  },
  {
   "cell_type": "code",
   "execution_count": 21,
   "metadata": {},
   "outputs": [],
   "source": [
    "conn = sqlite3.connect('Northwind_small.sqlite')\n",
    "cur = conn.cursor()\n",
    "\n",
    "cur.execute(\"\"\"\n",
    "SELECT od.Quantity, od.Discount, o.EmployeeId FROM OrderDetail od\n",
    "LEFT JOIN \"Order\" o ON (o.Id = od.OrderId)\n",
    "LEFT JOIN Customer c ON (c.Id = o.CustomerId)\n",
    ";\n",
    "\"\"\")\n",
    "table = cur.fetchall()\n",
    "cur.close()\n",
    "conn.close()"
   ]
  },
  {
   "cell_type": "code",
   "execution_count": 22,
   "metadata": {},
   "outputs": [
    {
     "name": "stdout",
     "output_type": "stream",
     "text": [
      "['Quantity', 'Discount', 'EmployeeId']\n"
     ]
    }
   ],
   "source": [
    "cols = [i[0] for i in cur.description]\n",
    "print(cols)\n",
    "df2 = pd.DataFrame.from_records(data = table, columns=cols)"
   ]
  },
  {
   "cell_type": "code",
   "execution_count": 23,
   "metadata": {},
   "outputs": [
    {
     "data": {
      "text/html": [
       "<div>\n",
       "<style scoped>\n",
       "    .dataframe tbody tr th:only-of-type {\n",
       "        vertical-align: middle;\n",
       "    }\n",
       "\n",
       "    .dataframe tbody tr th {\n",
       "        vertical-align: top;\n",
       "    }\n",
       "\n",
       "    .dataframe thead th {\n",
       "        text-align: right;\n",
       "    }\n",
       "</style>\n",
       "<table border=\"1\" class=\"dataframe\">\n",
       "  <thead>\n",
       "    <tr style=\"text-align: right;\">\n",
       "      <th></th>\n",
       "      <th>Quantity</th>\n",
       "      <th>Discount</th>\n",
       "      <th>EmployeeId</th>\n",
       "    </tr>\n",
       "  </thead>\n",
       "  <tbody>\n",
       "    <tr>\n",
       "      <th>0</th>\n",
       "      <td>12</td>\n",
       "      <td>0.0</td>\n",
       "      <td>5</td>\n",
       "    </tr>\n",
       "    <tr>\n",
       "      <th>1</th>\n",
       "      <td>10</td>\n",
       "      <td>0.0</td>\n",
       "      <td>5</td>\n",
       "    </tr>\n",
       "    <tr>\n",
       "      <th>2</th>\n",
       "      <td>5</td>\n",
       "      <td>0.0</td>\n",
       "      <td>5</td>\n",
       "    </tr>\n",
       "    <tr>\n",
       "      <th>3</th>\n",
       "      <td>9</td>\n",
       "      <td>0.0</td>\n",
       "      <td>6</td>\n",
       "    </tr>\n",
       "    <tr>\n",
       "      <th>4</th>\n",
       "      <td>40</td>\n",
       "      <td>0.0</td>\n",
       "      <td>6</td>\n",
       "    </tr>\n",
       "  </tbody>\n",
       "</table>\n",
       "</div>"
      ],
      "text/plain": [
       "   Quantity  Discount  EmployeeId\n",
       "0        12       0.0           5\n",
       "1        10       0.0           5\n",
       "2         5       0.0           5\n",
       "3         9       0.0           6\n",
       "4        40       0.0           6"
      ]
     },
     "execution_count": 23,
     "metadata": {},
     "output_type": "execute_result"
    }
   ],
   "source": [
    "df2.head()"
   ]
  },
  {
   "cell_type": "code",
   "execution_count": 24,
   "metadata": {},
   "outputs": [
    {
     "data": {
      "text/plain": [
       "0.005555555555555556"
      ]
     },
     "execution_count": 24,
     "metadata": {},
     "output_type": "execute_result"
    }
   ],
   "source": [
    "#p value based on a total 0.05 value\n",
    "p = 0.05 / 9\n",
    "p"
   ]
  },
  {
   "cell_type": "code",
   "execution_count": 25,
   "metadata": {},
   "outputs": [
    {
     "data": {
      "text/plain": [
       "[[1,\n",
       "  (303.2023012075638,\n",
       "   498.5901603095634,\n",
       "   NormaltestResult(statistic=83.64758219553543, pvalue=6.857381539696132e-19),\n",
       "   NormaltestResult(statistic=52.31304660034787, pvalue=4.368841258699928e-12))],\n",
       " [2,\n",
       "  (302.7637102734662,\n",
       "   662.1817543859653,\n",
       "   NormaltestResult(statistic=84.50077667081159, pvalue=4.4759939172606625e-19),\n",
       "   NormaltestResult(statistic=27.975348210743363, pvalue=8.41841480917549e-07))],\n",
       " [3,\n",
       "  (344.9362945895201,\n",
       "   323.66532860343546,\n",
       "   NormaltestResult(statistic=76.94409958900292, pvalue=1.957947609102798e-17),\n",
       "   NormaltestResult(statistic=30.320934840465092, pvalue=2.6055094719441575e-07))],\n",
       " [4,\n",
       "  (253.73230522088403,\n",
       "   408.231813435433,\n",
       "   NormaltestResult(statistic=125.85613258003713, pvalue=4.684767620975767e-28),\n",
       "   NormaltestResult(statistic=46.574635124820276, pvalue=7.699215653769103e-11))],\n",
       " [5,\n",
       "  (446.45644283121595,\n",
       "   417.42080654587943,\n",
       "   NormaltestResult(statistic=51.116446884497805, pvalue=7.947025229552631e-12),\n",
       "   NormaltestResult(statistic=20.143491178606542, pvalue=4.225678652273649e-05))],\n",
       " [6,\n",
       "  (216.56029684601114,\n",
       "   370.6909633418585,\n",
       "   NormaltestResult(statistic=32.05132791537234, pvalue=1.0968382175718042e-07),\n",
       "   NormaltestResult(statistic=71.54143012416354, pvalue=2.917264685820275e-16))],\n",
       " [7,\n",
       "  (387.0954371715241,\n",
       "   492.3974469305796,\n",
       "   NormaltestResult(statistic=63.73190392500483, pvalue=1.4480811560868057e-14),\n",
       "   NormaltestResult(statistic=20.931618855734552, pvalue=2.8494216307379013e-05))],\n",
       " [8,\n",
       "  (316.67630522088365,\n",
       "   289.0483870967742,\n",
       "   NormaltestResult(statistic=59.58511131842793, pvalue=1.1514828536363367e-13),\n",
       "   NormaltestResult(statistic=52.694102875353764, pvalue=3.6109456041480765e-12))],\n",
       " [9,\n",
       "  (269.88022598870066,\n",
       "   359.70952821461617,\n",
       "   NormaltestResult(statistic=60.787562905108814, pvalue=6.311730267610813e-14),\n",
       "   NormaltestResult(statistic=3.2160958125738017, pvalue=0.20027819453070175))]]"
      ]
     },
     "execution_count": 25,
     "metadata": {},
     "output_type": "execute_result"
    }
   ],
   "source": [
    "#check variances for each control and experiment group for each employee\n",
    "results = []\n",
    "for i in range(1,10):\n",
    "    control = df2['Quantity'][(df2.EmployeeId == i) & (df2.Discount == 0.0)]\n",
    "    experiment = df2['Quantity'][(df2.EmployeeId == i) & (df2.Discount != 0.0)]\n",
    "    \n",
    "    result = control.var(), experiment.var(), stat.normaltest(control), stat.normaltest(experiment)\n",
    "    \n",
    "    results.append([i,result])\n",
    "results\n",
    "\n",
    "#So we must use ttest with unequal variances again (Welch's t test)\n",
    "#We must remove employee 9 from the test as data not normally distributed"
   ]
  },
  {
   "cell_type": "code",
   "execution_count": 26,
   "metadata": {},
   "outputs": [
    {
     "data": {
      "text/plain": [
       "[[1,\n",
       "  Ttest_indResult(statistic=2.5564292088533116, pvalue=0.011202460047369944)],\n",
       " [2,\n",
       "  Ttest_indResult(statistic=3.8613956046915865, pvalue=0.00019270687008469972)],\n",
       " [3,\n",
       "  Ttest_indResult(statistic=1.1745103338121519, pvalue=0.24152666387933233)],\n",
       " [4,\n",
       "  Ttest_indResult(statistic=3.8717478589466245, pvalue=0.00013221896108609902)],\n",
       " [5,\n",
       "  Ttest_indResult(statistic=0.8542141305592196, pvalue=0.39476686722159315)],\n",
       " [6, Ttest_indResult(statistic=0.6119186155708318, pvalue=0.5417420117098031)],\n",
       " [7,\n",
       "  Ttest_indResult(statistic=2.3524253501240273, pvalue=0.019819499043053263)],\n",
       " [8, Ttest_indResult(statistic=-0.17002051867211823, pvalue=0.86516529621725)]]"
      ]
     },
     "execution_count": 26,
     "metadata": {},
     "output_type": "execute_result"
    }
   ],
   "source": [
    "results = []\n",
    "\n",
    "for i in range(1,9):\n",
    "    control = df2['Quantity'][(df2.EmployeeId == i) & (df2.Discount == 0.0)]\n",
    "    experiment = df2['Quantity'][(df2.EmployeeId == i) & (df2.Discount != 0.0)]\n",
    "    \n",
    "    result = stat.ttest_ind(experiment,control,equal_var=False)\n",
    "    \n",
    "    results.append([i,result])\n",
    "\n",
    "results"
   ]
  },
  {
   "cell_type": "markdown",
   "metadata": {},
   "source": [
    "## Conclusion\n",
    "\n",
    "1. Based on a p value of 0.006 employees 2 and 4 sell higher quantities due to discounts, and others don't. \n",
    "2. We need further data for employee 9 before we can draw any conclusions\n",
    "\n",
    "Recommendation: It is difficult to provide one without knowing the working practices, but there might be some selling tactics that employees 2 and 4 use that could be shared more widely."
   ]
  },
  {
   "cell_type": "markdown",
   "metadata": {},
   "source": [
    "<a id='manager'></a>"
   ]
  },
  {
   "cell_type": "markdown",
   "metadata": {},
   "source": [
    "# Question 3: As the manager in the British Isles, are there any regions that are signficantly different to mine measured by quantity per order?"
   ]
  },
  {
   "cell_type": "code",
   "execution_count": 27,
   "metadata": {},
   "outputs": [],
   "source": [
    "conn = sqlite3.connect('Northwind_small.sqlite')\n",
    "cur = conn.cursor()\n",
    "\n",
    "cur.execute(\"\"\"\n",
    "SELECT od.Quantity, od.Discount, c.Region FROM OrderDetail od\n",
    "LEFT JOIN \"Order\" o ON (o.Id = od.OrderId)\n",
    "LEFT JOIN Customer c ON (c.Id = o.CustomerId)\n",
    ";\n",
    "\"\"\")\n",
    "table = cur.fetchall()\n",
    "cur.close()\n",
    "conn.close()"
   ]
  },
  {
   "cell_type": "code",
   "execution_count": 28,
   "metadata": {},
   "outputs": [],
   "source": [
    "cols = [i[0] for i in cur.description]\n",
    "df3 = pd.DataFrame.from_records(data = table, columns=cols)"
   ]
  },
  {
   "cell_type": "code",
   "execution_count": 29,
   "metadata": {},
   "outputs": [
    {
     "data": {
      "text/plain": [
       "Western Europe     736\n",
       "North America      427\n",
       "South America      304\n",
       "British Isles      190\n",
       "Northern Europe    143\n",
       "Southern Europe    137\n",
       "Scandinavia         70\n",
       "Central America     55\n",
       "Eastern Europe      16\n",
       "Name: Region, dtype: int64"
      ]
     },
     "execution_count": 29,
     "metadata": {},
     "output_type": "execute_result"
    }
   ],
   "source": [
    "df3.Region.value_counts()"
   ]
  },
  {
   "cell_type": "code",
   "execution_count": 30,
   "metadata": {},
   "outputs": [],
   "source": [
    "#Given it's more than two categories, we can use ANOVA"
   ]
  },
  {
   "cell_type": "code",
   "execution_count": 31,
   "metadata": {},
   "outputs": [
    {
     "name": "stdout",
     "output_type": "stream",
     "text": [
      "                  sum_sq      df          F        PR(>F)\n",
      "C(Region)   40817.353539     8.0  14.641888  5.449622e-21\n",
      "Residual   720971.784575  2069.0        NaN           NaN\n"
     ]
    }
   ],
   "source": [
    "formula = 'Quantity ~ C(Region)'\n",
    "lm = ols(formula, df3).fit()\n",
    "table = sm.stats.anova_lm(lm, typ=2)\n",
    "print(table)"
   ]
  },
  {
   "cell_type": "code",
   "execution_count": 32,
   "metadata": {},
   "outputs": [
    {
     "data": {
      "image/png": "[encoded data removed]",
      "text/plain": [
       "<Figure size 432x288 with 1 Axes>"
      ]
     },
     "metadata": {
      "needs_background": "light"
     },
     "output_type": "display_data"
    }
   ],
   "source": [
    "#So region does make a difference\n",
    "#Which regions make a difference\n",
    "#print standard error of the mean for the error bars\n",
    "error = df3.groupby(['Region'],sort = True)['Quantity'].sem().sort_values()\n",
    "Quant_by_region = df3.groupby(['Region'],sort = True)['Quantity'].mean().sort_values().plot.bar(yerr = error,color = [\"blue\",\"blue\",\"blue\",\"blue\",\"blue\",\"red\",\"blue\",\"blue\",\"blue\"]);\n",
    "plt.ylabel(\"Mean quantity per order\");"
   ]
  },
  {
   "cell_type": "code",
   "execution_count": 41,
   "metadata": {},
   "outputs": [],
   "source": [
    "df3.Region = pd.Categorical(df3.Region)"
   ]
  },
  {
   "cell_type": "code",
   "execution_count": 42,
   "metadata": {},
   "outputs": [
    {
     "name": "stdout",
     "output_type": "stream",
     "text": [
      "          Multiple Comparison of Means - Tukey HSD, FWER=0.05          \n",
      "=======================================================================\n",
      "     group1          group2     meandiff p-adj   lower    upper  reject\n",
      "-----------------------------------------------------------------------\n",
      "  British Isles Central America -11.1856 0.0034 -20.1797 -2.1916   True\n",
      "  British Isles  Eastern Europe -10.4822  0.479 -25.7729  4.8085  False\n",
      "  British Isles   North America   3.2018 0.5976  -1.9208  8.3243  False\n",
      "  British Isles Northern Europe   0.5165    0.9  -5.9865  7.0194  False\n",
      "  British Isles     Scandinavia  -8.3519 0.0425 -16.5647 -0.1391   True\n",
      "  British Isles   South America   -2.377    0.9  -7.8092  3.0553  False\n",
      "  British Isles Southern Europe  -8.1633 0.0035  -14.747 -1.5797   True\n",
      "  British Isles  Western Europe   4.1794 0.1476  -0.6005  8.9594  False\n",
      "  British Isles             nan  -2.4895    0.9 -10.4249  5.4458  False\n",
      "Central America  Eastern Europe   0.7034    0.9 -15.9813 17.3881  False\n",
      "Central America   North America  14.3874  0.001   5.9723 22.8025   True\n",
      "Central America Northern Europe  11.7021 0.0029   2.3821 21.0221   True\n",
      "Central America     Scandinavia   2.8338    0.9  -7.7504 13.4179  False\n",
      "Central America   South America   8.8087 0.0399   0.2015 17.4158   True\n",
      "Central America Southern Europe   3.0223    0.9  -6.3542 12.3988  False\n",
      "Central America  Western Europe  15.3651  0.001    7.154 23.5761   True\n",
      "Central America             nan   8.6961 0.1926  -1.6742 19.0664  False\n",
      " Eastern Europe   North America   13.684 0.1069  -1.2735 28.6415  False\n",
      " Eastern Europe Northern Europe  10.9987 0.4263  -4.4859 26.4833  False\n",
      " Eastern Europe     Scandinavia   2.1304    0.9 -14.1465 18.4072  False\n",
      " Eastern Europe   South America   8.1053 0.7669  -6.9611 23.1716  False\n",
      " Eastern Europe Southern Europe   2.3189    0.9 -13.1998 17.8376  False\n",
      " Eastern Europe  Western Europe  14.6617 0.0562   -0.182 29.5053  False\n",
      " Eastern Europe             nan   7.9927   0.85  -8.1459 24.1313  False\n",
      "  North America Northern Europe  -2.6853 0.8929  -8.3606    2.99  False\n",
      "  North America     Scandinavia -11.5536  0.001  -19.128 -3.9793   True\n",
      "  North America   South America  -5.5787 0.0025  -9.9867 -1.1708   True\n",
      "  North America Southern Europe -11.3651  0.001 -17.1327 -5.5975   True\n",
      "  North America  Western Europe   0.9777    0.9  -2.5956   4.551  False\n",
      "  North America             nan  -5.6913 0.2809 -12.9638  1.5813  False\n",
      "Northern Europe     Scandinavia  -8.8683 0.0356 -17.4368 -0.2999   True\n",
      "Northern Europe   South America  -2.8934 0.8684  -8.8498  3.0629  False\n",
      "Northern Europe Southern Europe  -8.6798 0.0037 -15.7021 -1.6575   True\n",
      "Northern Europe  Western Europe    3.663 0.4855  -1.7051  9.0311  False\n",
      "Northern Europe             nan   -3.006    0.9 -11.3089  5.2969  False\n",
      "    Scandinavia   South America   5.9749 0.3085  -1.8123 13.7621  False\n",
      "    Scandinavia Southern Europe   0.1885    0.9  -8.4414  8.8184  False\n",
      "    Scandinavia  Western Europe  12.5313  0.001   5.1843 19.8783   True\n",
      "    Scandinavia             nan   5.8623 0.6379  -3.8382 15.5629  False\n",
      "  South America Southern Europe  -5.7864 0.0745 -11.8308   0.258  False\n",
      "  South America  Western Europe   6.5564  0.001   2.5517 10.5611   True\n",
      "  South America             nan  -0.1126    0.9  -7.6065  7.3814  False\n",
      "Southern Europe  Western Europe  12.3428  0.001   6.8772 17.8084   True\n",
      "Southern Europe             nan   5.6738 0.4941  -2.6925 14.0401  False\n",
      " Western Europe             nan   -6.669 0.0809 -13.7044  0.3665  False\n",
      "-----------------------------------------------------------------------\n",
      "[0.   0.1  0.15 0.2  0.25]\n"
     ]
    }
   ],
   "source": [
    "mc1 = MultiComparison(df3['Quantity'], list(df3['Region']))\n",
    "result = mc1.tukeyhsd()\n",
    " \n",
    "print(result)\n",
    "print(mc.groupsunique)\n",
    "\n",
    "#Eastern Europe is not considered statistically smaller. Going back to the variance and error bars, \n",
    "#the reason in the variation in the data. We know it's the smallest sample size, which therefore makes sense. \n",
    "#Need more data here. "
   ]
  },
  {
   "cell_type": "markdown",
   "metadata": {},
   "source": [
    "## Conclusion\n",
    "\n",
    "1. The ANOVA test shows us there is a statisically significant difference between regions\n",
    "2. Our visual plot shows there are 5 regions that have a lower mean quantity per order. However only three of these, Central America, Scandinavia and Southern Europe are significantly below. Eastern Europe does not have enough data, and therefore has a higher standard error and so is not considered significantly different according to Tukey's HSD. \n",
    "3. No region has a significantly higher mean quantity per order\n",
    "\n",
    "Recommendation: Dig down into whether discounts can help those regions with lower order quantities. Also we could look at customer demographics. "
   ]
  }
 ],
 "metadata": {
  "kernelspec": {
   "display_name": "Python 3",
   "language": "python",
   "name": "python3"
  },
  "language_info": {
   "codemirror_mode": {
    "name": "ipython",
    "version": 3
   },
   "file_extension": ".py",
   "mimetype": "text/x-python",
   "name": "python",
   "nbconvert_exporter": "python",
   "pygments_lexer": "ipython3",
   "version": "3.6.5"
  }
 },
 "nbformat": 4,
 "nbformat_minor": 2
}
